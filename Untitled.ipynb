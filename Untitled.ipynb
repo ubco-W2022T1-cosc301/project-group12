{
 "cells": [
  {
   "cell_type": "code",
   "execution_count": null,
   "id": "7c99fd38-460c-4c4a-984e-01feaffc3817",
   "metadata": {},
   "outputs": [],
   "source": []
  }
 ],
 "metadata": {
  "kernelspec": {
   "display_name": "Python 3 (ipykernel)",
   "language": "python",
   "name": "python3"
  }
 },
 "nbformat": 4,
 "nbformat_minor": 5
}
