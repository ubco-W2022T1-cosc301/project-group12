{
 "cells": [
  {
   "cell_type": "markdown",
   "id": "7040e409-c5e2-41ef-b73a-54787a3286db",
   "metadata": {},
   "source": [
    "# This module contains the imported functions from each of our analyses"
   ]
  },
  {
   "cell_type": "code",
   "execution_count": null,
   "id": "1c000ad4-c5df-4fcc-8ac2-4fe446e9de97",
   "metadata": {},
   "outputs": [
    {
     "data": {
      "text/html": [
       "<div>\n",
       "<style scoped>\n",
       "    .dataframe tbody tr th:only-of-type {\n",
       "        vertical-align: middle;\n",
       "    }\n",
       "\n",
       "    .dataframe tbody tr th {\n",
       "        vertical-align: top;\n",
       "    }\n",
       "\n",
       "    .dataframe thead th {\n",
       "        text-align: right;\n",
       "    }\n",
       "</style>\n",
       "<table border=\"1\" class=\"dataframe\">\n",
       "  <thead>\n",
       "    <tr style=\"text-align: right;\">\n",
       "      <th></th>\n",
       "      <th>Type</th>\n",
       "      <th>Popularity</th>\n",
       "      <th>Full Anime Completions</th>\n",
       "    </tr>\n",
       "  </thead>\n",
       "  <tbody>\n",
       "    <tr>\n",
       "      <th>0</th>\n",
       "      <td>TV</td>\n",
       "      <td>39</td>\n",
       "      <td>718161</td>\n",
       "    </tr>\n",
       "    <tr>\n",
       "      <th>1</th>\n",
       "      <td>Movie</td>\n",
       "      <td>518</td>\n",
       "      <td>208333</td>\n",
       "    </tr>\n",
       "    <tr>\n",
       "      <th>2</th>\n",
       "      <td>TV</td>\n",
       "      <td>201</td>\n",
       "      <td>343492</td>\n",
       "    </tr>\n",
       "    <tr>\n",
       "      <th>3</th>\n",
       "      <td>TV</td>\n",
       "      <td>1467</td>\n",
       "      <td>46165</td>\n",
       "    </tr>\n",
       "    <tr>\n",
       "      <th>4</th>\n",
       "      <td>TV</td>\n",
       "      <td>4369</td>\n",
       "      <td>7314</td>\n",
       "    </tr>\n",
       "  </tbody>\n",
       "</table>\n",
       "</div>"
      ],
      "text/plain": [
       "    Type  Popularity  Full Anime Completions\n",
       "0     TV          39                  718161\n",
       "1  Movie         518                  208333\n",
       "2     TV         201                  343492\n",
       "3     TV        1467                   46165\n",
       "4     TV        4369                    7314"
      ]
     },
     "execution_count": null,
     "metadata": {},
     "output_type": "execute_result"
    }
   ],
   "source": [
    "import project_functions1\n",
    "df = project_functions1.load_and_process('../data/raw/anime.csv')\n",
    "df.head()"
   ]
  },
  {
   "cell_type": "code",
   "execution_count": null,
   "id": "a4680c74-c60b-4160-89a6-783d8f334c8f",
   "metadata": {},
   "outputs": [
    {
     "name": "stdout",
     "output_type": "stream",
     "text": [
      "                              Name  Score         Studios    Source Ranked  \\\n",
      "0                     Cowboy Bebop   8.78         Sunrise  Original     28   \n",
      "1  Cowboy Bebop: Tengoku no Tobira   8.39           Bones  Original    159   \n",
      "2                           Trigun   8.24        Madhouse     Manga    266   \n",
      "3               Witch Hunter Robin   7.27         Sunrise  Original   2481   \n",
      "4                   Bouken Ou Beet   6.98  Toei Animation     Manga   3710   \n",
      "\n",
      "   Popularity  Completed  \n",
      "0          39     718161  \n",
      "1         518     208333  \n",
      "2         201     343492  \n",
      "3        1467      46165  \n",
      "4        4369       7314  \n"
     ]
    }
   ],
   "source": [
    "import project_functions2\n",
    "df = project_functions2.load_and_process('../data/raw/anime.csv')"
   ]
  },
  {
   "cell_type": "code",
   "execution_count": null,
   "id": "c99ab262-0514-41ca-8f32-11f0a1340379",
   "metadata": {},
   "outputs": [],
   "source": []
  }
 ],
 "metadata": {
  "kernelspec": {
   "display_name": "Python 3 (ipykernel)",
   "language": "python",
   "name": "python3"
  }
 },
 "nbformat": 4,
 "nbformat_minor": 5
}
