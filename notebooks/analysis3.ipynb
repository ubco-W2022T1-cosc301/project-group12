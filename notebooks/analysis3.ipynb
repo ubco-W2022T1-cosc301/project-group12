{
 "cells": [
  {
   "cell_type": "markdown",
   "metadata": {},
   "source": [
    "# Tanay Desai"
   ]
  },
  {
   "cell_type": "markdown",
   "metadata": {},
   "source": [
    "## Research question/interests\r\n",
    "\r\n",
    "Measure and compare relationship between number of episodes the show has and how highly rated the show is, as well as which genre of anime is most/least highly rated."
   ]
  }
 ],
 "metadata": {},
 "nbformat": 4,
 "nbformat_minor": 2
}
