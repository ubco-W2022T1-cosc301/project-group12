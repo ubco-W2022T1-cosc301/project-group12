{
 "cells": [
  {
   "cell_type": "markdown",
   "id": "9d3394fd-0643-4621-b1ad-b2e07afe7f05",
   "metadata": {},
   "source": [
    "# Justin MacInnes"
   ]
  },
  {
   "cell_type": "markdown",
   "id": "c69af52c-1435-4ce7-813e-b37924c78ea2",
   "metadata": {},
   "source": [
    "## Research question/interests\n",
    "\n",
    "What are the most popular types of anime are based on the popularity rating of the anime, and is there a correlation between popularity and number of people who have completed watching the anime?"
   ]
  },
  {
   "cell_type": "code",
   "execution_count": 1,
   "id": "0c1ba3b3-a9b7-4991-a7f8-5967e10b3ba4",
   "metadata": {},
   "outputs": [],
   "source": [
    "import pandas as pd\n",
    "import numpy as np\n",
    "import matplotlib.pylab as plt\n",
    "import seaborn as sns"
   ]
  },
  {
   "cell_type": "code",
   "execution_count": 2,
   "id": "9f0b49e7-c892-4e9c-9a93-5df3782eb04f",
   "metadata": {},
   "outputs": [
    {
     "data": {
      "text/html": [
       "<div>\n",
       "<style scoped>\n",
       "    .dataframe tbody tr th:only-of-type {\n",
       "        vertical-align: middle;\n",
       "    }\n",
       "\n",
       "    .dataframe tbody tr th {\n",
       "        vertical-align: top;\n",
       "    }\n",
       "\n",
       "    .dataframe thead th {\n",
       "        text-align: right;\n",
       "    }\n",
       "</style>\n",
       "<table border=\"1\" class=\"dataframe\">\n",
       "  <thead>\n",
       "    <tr style=\"text-align: right;\">\n",
       "      <th></th>\n",
       "      <th>MAL_ID</th>\n",
       "      <th>Name</th>\n",
       "      <th>Score</th>\n",
       "      <th>Genres</th>\n",
       "      <th>English name</th>\n",
       "      <th>Japanese name</th>\n",
       "      <th>Type</th>\n",
       "      <th>Episodes</th>\n",
       "      <th>Aired</th>\n",
       "      <th>Premiered</th>\n",
       "      <th>...</th>\n",
       "      <th>Score-10</th>\n",
       "      <th>Score-9</th>\n",
       "      <th>Score-8</th>\n",
       "      <th>Score-7</th>\n",
       "      <th>Score-6</th>\n",
       "      <th>Score-5</th>\n",
       "      <th>Score-4</th>\n",
       "      <th>Score-3</th>\n",
       "      <th>Score-2</th>\n",
       "      <th>Score-1</th>\n",
       "    </tr>\n",
       "  </thead>\n",
       "  <tbody>\n",
       "    <tr>\n",
       "      <th>0</th>\n",
       "      <td>1</td>\n",
       "      <td>Cowboy Bebop</td>\n",
       "      <td>8.78</td>\n",
       "      <td>Action, Adventure, Comedy, Drama, Sci-Fi, Space</td>\n",
       "      <td>Cowboy Bebop</td>\n",
       "      <td>カウボーイビバップ</td>\n",
       "      <td>TV</td>\n",
       "      <td>26</td>\n",
       "      <td>Apr 3, 1998 to Apr 24, 1999</td>\n",
       "      <td>Spring 1998</td>\n",
       "      <td>...</td>\n",
       "      <td>229170</td>\n",
       "      <td>182126</td>\n",
       "      <td>131625</td>\n",
       "      <td>62330</td>\n",
       "      <td>20688</td>\n",
       "      <td>8904</td>\n",
       "      <td>3184</td>\n",
       "      <td>1357</td>\n",
       "      <td>741</td>\n",
       "      <td>1580</td>\n",
       "    </tr>\n",
       "    <tr>\n",
       "      <th>1</th>\n",
       "      <td>5</td>\n",
       "      <td>Cowboy Bebop: Tengoku no Tobira</td>\n",
       "      <td>8.39</td>\n",
       "      <td>Action, Drama, Mystery, Sci-Fi, Space</td>\n",
       "      <td>Cowboy Bebop:The Movie</td>\n",
       "      <td>カウボーイビバップ 天国の扉</td>\n",
       "      <td>Movie</td>\n",
       "      <td>1</td>\n",
       "      <td>Sep 1, 2001</td>\n",
       "      <td>Unknown</td>\n",
       "      <td>...</td>\n",
       "      <td>30043</td>\n",
       "      <td>49201</td>\n",
       "      <td>49505</td>\n",
       "      <td>22632</td>\n",
       "      <td>5805</td>\n",
       "      <td>1877</td>\n",
       "      <td>577</td>\n",
       "      <td>221</td>\n",
       "      <td>109</td>\n",
       "      <td>379</td>\n",
       "    </tr>\n",
       "    <tr>\n",
       "      <th>2</th>\n",
       "      <td>6</td>\n",
       "      <td>Trigun</td>\n",
       "      <td>8.24</td>\n",
       "      <td>Action, Sci-Fi, Adventure, Comedy, Drama, Shounen</td>\n",
       "      <td>Trigun</td>\n",
       "      <td>トライガン</td>\n",
       "      <td>TV</td>\n",
       "      <td>26</td>\n",
       "      <td>Apr 1, 1998 to Sep 30, 1998</td>\n",
       "      <td>Spring 1998</td>\n",
       "      <td>...</td>\n",
       "      <td>50229</td>\n",
       "      <td>75651</td>\n",
       "      <td>86142</td>\n",
       "      <td>49432</td>\n",
       "      <td>15376</td>\n",
       "      <td>5838</td>\n",
       "      <td>1965</td>\n",
       "      <td>664</td>\n",
       "      <td>316</td>\n",
       "      <td>533</td>\n",
       "    </tr>\n",
       "    <tr>\n",
       "      <th>3</th>\n",
       "      <td>7</td>\n",
       "      <td>Witch Hunter Robin</td>\n",
       "      <td>7.27</td>\n",
       "      <td>Action, Mystery, Police, Supernatural, Drama, ...</td>\n",
       "      <td>Witch Hunter Robin</td>\n",
       "      <td>Witch Hunter ROBIN (ウイッチハンターロビン)</td>\n",
       "      <td>TV</td>\n",
       "      <td>26</td>\n",
       "      <td>Jul 2, 2002 to Dec 24, 2002</td>\n",
       "      <td>Summer 2002</td>\n",
       "      <td>...</td>\n",
       "      <td>2182</td>\n",
       "      <td>4806</td>\n",
       "      <td>10128</td>\n",
       "      <td>11618</td>\n",
       "      <td>5709</td>\n",
       "      <td>2920</td>\n",
       "      <td>1083</td>\n",
       "      <td>353</td>\n",
       "      <td>164</td>\n",
       "      <td>131</td>\n",
       "    </tr>\n",
       "    <tr>\n",
       "      <th>4</th>\n",
       "      <td>8</td>\n",
       "      <td>Bouken Ou Beet</td>\n",
       "      <td>6.98</td>\n",
       "      <td>Adventure, Fantasy, Shounen, Supernatural</td>\n",
       "      <td>Beet the Vandel Buster</td>\n",
       "      <td>冒険王ビィト</td>\n",
       "      <td>TV</td>\n",
       "      <td>52</td>\n",
       "      <td>Sep 30, 2004 to Sep 29, 2005</td>\n",
       "      <td>Fall 2004</td>\n",
       "      <td>...</td>\n",
       "      <td>312</td>\n",
       "      <td>529</td>\n",
       "      <td>1242</td>\n",
       "      <td>1713</td>\n",
       "      <td>1068</td>\n",
       "      <td>634</td>\n",
       "      <td>265</td>\n",
       "      <td>83</td>\n",
       "      <td>50</td>\n",
       "      <td>27</td>\n",
       "    </tr>\n",
       "    <tr>\n",
       "      <th>...</th>\n",
       "      <td>...</td>\n",
       "      <td>...</td>\n",
       "      <td>...</td>\n",
       "      <td>...</td>\n",
       "      <td>...</td>\n",
       "      <td>...</td>\n",
       "      <td>...</td>\n",
       "      <td>...</td>\n",
       "      <td>...</td>\n",
       "      <td>...</td>\n",
       "      <td>...</td>\n",
       "      <td>...</td>\n",
       "      <td>...</td>\n",
       "      <td>...</td>\n",
       "      <td>...</td>\n",
       "      <td>...</td>\n",
       "      <td>...</td>\n",
       "      <td>...</td>\n",
       "      <td>...</td>\n",
       "      <td>...</td>\n",
       "      <td>...</td>\n",
       "    </tr>\n",
       "    <tr>\n",
       "      <th>17557</th>\n",
       "      <td>48481</td>\n",
       "      <td>Daomu Biji Zhi Qinling Shen Shu</td>\n",
       "      <td>Unknown</td>\n",
       "      <td>Adventure, Mystery, Supernatural</td>\n",
       "      <td>Unknown</td>\n",
       "      <td>盗墓笔记之秦岭神树</td>\n",
       "      <td>ONA</td>\n",
       "      <td>Unknown</td>\n",
       "      <td>Apr 4, 2021 to ?</td>\n",
       "      <td>Unknown</td>\n",
       "      <td>...</td>\n",
       "      <td>Unknown</td>\n",
       "      <td>Unknown</td>\n",
       "      <td>Unknown</td>\n",
       "      <td>1</td>\n",
       "      <td>Unknown</td>\n",
       "      <td>Unknown</td>\n",
       "      <td>Unknown</td>\n",
       "      <td>Unknown</td>\n",
       "      <td>Unknown</td>\n",
       "      <td>Unknown</td>\n",
       "    </tr>\n",
       "    <tr>\n",
       "      <th>17558</th>\n",
       "      <td>48483</td>\n",
       "      <td>Mieruko-chan</td>\n",
       "      <td>Unknown</td>\n",
       "      <td>Comedy, Horror, Supernatural</td>\n",
       "      <td>Unknown</td>\n",
       "      <td>見える子ちゃん</td>\n",
       "      <td>TV</td>\n",
       "      <td>Unknown</td>\n",
       "      <td>2021 to ?</td>\n",
       "      <td>Unknown</td>\n",
       "      <td>...</td>\n",
       "      <td>Unknown</td>\n",
       "      <td>Unknown</td>\n",
       "      <td>Unknown</td>\n",
       "      <td>Unknown</td>\n",
       "      <td>Unknown</td>\n",
       "      <td>Unknown</td>\n",
       "      <td>Unknown</td>\n",
       "      <td>Unknown</td>\n",
       "      <td>Unknown</td>\n",
       "      <td>Unknown</td>\n",
       "    </tr>\n",
       "    <tr>\n",
       "      <th>17559</th>\n",
       "      <td>48488</td>\n",
       "      <td>Higurashi no Naku Koro ni Sotsu</td>\n",
       "      <td>Unknown</td>\n",
       "      <td>Mystery, Dementia, Horror, Psychological, Supe...</td>\n",
       "      <td>Higurashi:When They Cry – SOTSU</td>\n",
       "      <td>ひぐらしのなく頃に卒</td>\n",
       "      <td>TV</td>\n",
       "      <td>Unknown</td>\n",
       "      <td>Jul, 2021 to ?</td>\n",
       "      <td>Summer 2021</td>\n",
       "      <td>...</td>\n",
       "      <td>1</td>\n",
       "      <td>Unknown</td>\n",
       "      <td>Unknown</td>\n",
       "      <td>Unknown</td>\n",
       "      <td>Unknown</td>\n",
       "      <td>Unknown</td>\n",
       "      <td>Unknown</td>\n",
       "      <td>Unknown</td>\n",
       "      <td>Unknown</td>\n",
       "      <td>Unknown</td>\n",
       "    </tr>\n",
       "    <tr>\n",
       "      <th>17560</th>\n",
       "      <td>48491</td>\n",
       "      <td>Yama no Susume: Next Summit</td>\n",
       "      <td>Unknown</td>\n",
       "      <td>Adventure, Slice of Life, Comedy</td>\n",
       "      <td>Unknown</td>\n",
       "      <td>ヤマノススメ Next Summit</td>\n",
       "      <td>TV</td>\n",
       "      <td>Unknown</td>\n",
       "      <td>Unknown</td>\n",
       "      <td>Unknown</td>\n",
       "      <td>...</td>\n",
       "      <td>Unknown</td>\n",
       "      <td>Unknown</td>\n",
       "      <td>Unknown</td>\n",
       "      <td>Unknown</td>\n",
       "      <td>Unknown</td>\n",
       "      <td>Unknown</td>\n",
       "      <td>Unknown</td>\n",
       "      <td>Unknown</td>\n",
       "      <td>Unknown</td>\n",
       "      <td>Unknown</td>\n",
       "    </tr>\n",
       "    <tr>\n",
       "      <th>17561</th>\n",
       "      <td>48492</td>\n",
       "      <td>Scarlet Nexus</td>\n",
       "      <td>Unknown</td>\n",
       "      <td>Action, Fantasy</td>\n",
       "      <td>Unknown</td>\n",
       "      <td>SCARLET NEXUS</td>\n",
       "      <td>TV</td>\n",
       "      <td>Unknown</td>\n",
       "      <td>Jul, 2021 to ?</td>\n",
       "      <td>Summer 2021</td>\n",
       "      <td>...</td>\n",
       "      <td>Unknown</td>\n",
       "      <td>Unknown</td>\n",
       "      <td>Unknown</td>\n",
       "      <td>Unknown</td>\n",
       "      <td>Unknown</td>\n",
       "      <td>Unknown</td>\n",
       "      <td>Unknown</td>\n",
       "      <td>Unknown</td>\n",
       "      <td>Unknown</td>\n",
       "      <td>Unknown</td>\n",
       "    </tr>\n",
       "  </tbody>\n",
       "</table>\n",
       "<p>17562 rows × 35 columns</p>\n",
       "</div>"
      ],
      "text/plain": [
       "       MAL_ID                             Name    Score  \\\n",
       "0           1                     Cowboy Bebop     8.78   \n",
       "1           5  Cowboy Bebop: Tengoku no Tobira     8.39   \n",
       "2           6                           Trigun     8.24   \n",
       "3           7               Witch Hunter Robin     7.27   \n",
       "4           8                   Bouken Ou Beet     6.98   \n",
       "...       ...                              ...      ...   \n",
       "17557   48481  Daomu Biji Zhi Qinling Shen Shu  Unknown   \n",
       "17558   48483                     Mieruko-chan  Unknown   \n",
       "17559   48488  Higurashi no Naku Koro ni Sotsu  Unknown   \n",
       "17560   48491      Yama no Susume: Next Summit  Unknown   \n",
       "17561   48492                    Scarlet Nexus  Unknown   \n",
       "\n",
       "                                                  Genres  \\\n",
       "0        Action, Adventure, Comedy, Drama, Sci-Fi, Space   \n",
       "1                  Action, Drama, Mystery, Sci-Fi, Space   \n",
       "2      Action, Sci-Fi, Adventure, Comedy, Drama, Shounen   \n",
       "3      Action, Mystery, Police, Supernatural, Drama, ...   \n",
       "4              Adventure, Fantasy, Shounen, Supernatural   \n",
       "...                                                  ...   \n",
       "17557                   Adventure, Mystery, Supernatural   \n",
       "17558                       Comedy, Horror, Supernatural   \n",
       "17559  Mystery, Dementia, Horror, Psychological, Supe...   \n",
       "17560                   Adventure, Slice of Life, Comedy   \n",
       "17561                                    Action, Fantasy   \n",
       "\n",
       "                          English name                     Japanese name  \\\n",
       "0                         Cowboy Bebop                         カウボーイビバップ   \n",
       "1               Cowboy Bebop:The Movie                    カウボーイビバップ 天国の扉   \n",
       "2                               Trigun                             トライガン   \n",
       "3                   Witch Hunter Robin  Witch Hunter ROBIN (ウイッチハンターロビン)   \n",
       "4               Beet the Vandel Buster                            冒険王ビィト   \n",
       "...                                ...                               ...   \n",
       "17557                          Unknown                         盗墓笔记之秦岭神树   \n",
       "17558                          Unknown                           見える子ちゃん   \n",
       "17559  Higurashi:When They Cry – SOTSU                        ひぐらしのなく頃に卒   \n",
       "17560                          Unknown                ヤマノススメ Next Summit   \n",
       "17561                          Unknown                     SCARLET NEXUS   \n",
       "\n",
       "        Type Episodes                         Aired    Premiered  ...  \\\n",
       "0         TV       26   Apr 3, 1998 to Apr 24, 1999  Spring 1998  ...   \n",
       "1      Movie        1                   Sep 1, 2001      Unknown  ...   \n",
       "2         TV       26   Apr 1, 1998 to Sep 30, 1998  Spring 1998  ...   \n",
       "3         TV       26   Jul 2, 2002 to Dec 24, 2002  Summer 2002  ...   \n",
       "4         TV       52  Sep 30, 2004 to Sep 29, 2005    Fall 2004  ...   \n",
       "...      ...      ...                           ...          ...  ...   \n",
       "17557    ONA  Unknown              Apr 4, 2021 to ?      Unknown  ...   \n",
       "17558     TV  Unknown                     2021 to ?      Unknown  ...   \n",
       "17559     TV  Unknown                Jul, 2021 to ?  Summer 2021  ...   \n",
       "17560     TV  Unknown                       Unknown      Unknown  ...   \n",
       "17561     TV  Unknown                Jul, 2021 to ?  Summer 2021  ...   \n",
       "\n",
       "      Score-10  Score-9  Score-8  Score-7  Score-6  Score-5  Score-4  Score-3  \\\n",
       "0       229170   182126   131625    62330    20688     8904     3184     1357   \n",
       "1        30043    49201    49505    22632     5805     1877      577      221   \n",
       "2        50229    75651    86142    49432    15376     5838     1965      664   \n",
       "3         2182     4806    10128    11618     5709     2920     1083      353   \n",
       "4          312      529     1242     1713     1068      634      265       83   \n",
       "...        ...      ...      ...      ...      ...      ...      ...      ...   \n",
       "17557  Unknown  Unknown  Unknown        1  Unknown  Unknown  Unknown  Unknown   \n",
       "17558  Unknown  Unknown  Unknown  Unknown  Unknown  Unknown  Unknown  Unknown   \n",
       "17559        1  Unknown  Unknown  Unknown  Unknown  Unknown  Unknown  Unknown   \n",
       "17560  Unknown  Unknown  Unknown  Unknown  Unknown  Unknown  Unknown  Unknown   \n",
       "17561  Unknown  Unknown  Unknown  Unknown  Unknown  Unknown  Unknown  Unknown   \n",
       "\n",
       "       Score-2  Score-1  \n",
       "0          741     1580  \n",
       "1          109      379  \n",
       "2          316      533  \n",
       "3          164      131  \n",
       "4           50       27  \n",
       "...        ...      ...  \n",
       "17557  Unknown  Unknown  \n",
       "17558  Unknown  Unknown  \n",
       "17559  Unknown  Unknown  \n",
       "17560  Unknown  Unknown  \n",
       "17561  Unknown  Unknown  \n",
       "\n",
       "[17562 rows x 35 columns]"
      ]
     },
     "execution_count": 2,
     "metadata": {},
     "output_type": "execute_result"
    }
   ],
   "source": [
    "pd.read_csv(\"../data/raw/anime.csv\")"
   ]
  },
  {
   "cell_type": "markdown",
   "id": "063c3a9e-dd8a-46b1-926c-50616c96fb7e",
   "metadata": {},
   "source": [
    "### Side note: If we include all columns and rows, Jupyter lab will constantly crash as it does not have enough memory to load that many rows. "
   ]
  },
  {
   "cell_type": "code",
   "execution_count": 3,
   "id": "4522db90-3d87-483c-8b1e-a7faf404d8ed",
   "metadata": {},
   "outputs": [],
   "source": [
    "df = pd.read_csv(\"../data/raw/anime.csv\")"
   ]
  },
  {
   "cell_type": "markdown",
   "id": "45809f26-cedb-43b3-828f-562b2825ae7e",
   "metadata": {},
   "source": [
    "## Task 1: EDA"
   ]
  },
  {
   "cell_type": "code",
   "execution_count": 4,
   "id": "dad50412-8558-43ea-96f3-7e5544d22f87",
   "metadata": {},
   "outputs": [
    {
     "data": {
      "text/html": [
       "<div>\n",
       "<style scoped>\n",
       "    .dataframe tbody tr th:only-of-type {\n",
       "        vertical-align: middle;\n",
       "    }\n",
       "\n",
       "    .dataframe tbody tr th {\n",
       "        vertical-align: top;\n",
       "    }\n",
       "\n",
       "    .dataframe thead th {\n",
       "        text-align: right;\n",
       "    }\n",
       "</style>\n",
       "<table border=\"1\" class=\"dataframe\">\n",
       "  <thead>\n",
       "    <tr style=\"text-align: right;\">\n",
       "      <th></th>\n",
       "      <th>MAL_ID</th>\n",
       "      <th>Popularity</th>\n",
       "      <th>Members</th>\n",
       "      <th>Favorites</th>\n",
       "      <th>Watching</th>\n",
       "      <th>Completed</th>\n",
       "      <th>On-Hold</th>\n",
       "      <th>Dropped</th>\n",
       "      <th>Plan to Watch</th>\n",
       "    </tr>\n",
       "  </thead>\n",
       "  <tbody>\n",
       "    <tr>\n",
       "      <th>count</th>\n",
       "      <td>17562.000000</td>\n",
       "      <td>17562.000000</td>\n",
       "      <td>1.756200e+04</td>\n",
       "      <td>17562.000000</td>\n",
       "      <td>17562.000000</td>\n",
       "      <td>1.756200e+04</td>\n",
       "      <td>17562.000000</td>\n",
       "      <td>17562.000000</td>\n",
       "      <td>17562.000000</td>\n",
       "    </tr>\n",
       "    <tr>\n",
       "      <th>mean</th>\n",
       "      <td>21477.192347</td>\n",
       "      <td>8763.452340</td>\n",
       "      <td>3.465854e+04</td>\n",
       "      <td>457.746270</td>\n",
       "      <td>2231.487758</td>\n",
       "      <td>2.209557e+04</td>\n",
       "      <td>955.049653</td>\n",
       "      <td>1176.599533</td>\n",
       "      <td>8199.831227</td>\n",
       "    </tr>\n",
       "    <tr>\n",
       "      <th>std</th>\n",
       "      <td>14900.093170</td>\n",
       "      <td>5059.327278</td>\n",
       "      <td>1.252821e+05</td>\n",
       "      <td>4063.473313</td>\n",
       "      <td>14046.688133</td>\n",
       "      <td>9.100919e+04</td>\n",
       "      <td>4275.675096</td>\n",
       "      <td>4740.348653</td>\n",
       "      <td>23777.691963</td>\n",
       "    </tr>\n",
       "    <tr>\n",
       "      <th>min</th>\n",
       "      <td>1.000000</td>\n",
       "      <td>0.000000</td>\n",
       "      <td>1.000000e+00</td>\n",
       "      <td>0.000000</td>\n",
       "      <td>0.000000</td>\n",
       "      <td>0.000000e+00</td>\n",
       "      <td>0.000000</td>\n",
       "      <td>0.000000</td>\n",
       "      <td>1.000000</td>\n",
       "    </tr>\n",
       "    <tr>\n",
       "      <th>25%</th>\n",
       "      <td>5953.500000</td>\n",
       "      <td>4383.500000</td>\n",
       "      <td>3.360000e+02</td>\n",
       "      <td>0.000000</td>\n",
       "      <td>13.000000</td>\n",
       "      <td>1.110000e+02</td>\n",
       "      <td>6.000000</td>\n",
       "      <td>37.000000</td>\n",
       "      <td>112.000000</td>\n",
       "    </tr>\n",
       "    <tr>\n",
       "      <th>50%</th>\n",
       "      <td>22820.000000</td>\n",
       "      <td>8762.500000</td>\n",
       "      <td>2.065000e+03</td>\n",
       "      <td>3.000000</td>\n",
       "      <td>73.000000</td>\n",
       "      <td>8.175000e+02</td>\n",
       "      <td>45.000000</td>\n",
       "      <td>77.000000</td>\n",
       "      <td>752.500000</td>\n",
       "    </tr>\n",
       "    <tr>\n",
       "      <th>75%</th>\n",
       "      <td>35624.750000</td>\n",
       "      <td>13145.000000</td>\n",
       "      <td>1.322325e+04</td>\n",
       "      <td>31.000000</td>\n",
       "      <td>522.000000</td>\n",
       "      <td>6.478000e+03</td>\n",
       "      <td>291.750000</td>\n",
       "      <td>271.000000</td>\n",
       "      <td>4135.500000</td>\n",
       "    </tr>\n",
       "    <tr>\n",
       "      <th>max</th>\n",
       "      <td>48492.000000</td>\n",
       "      <td>17565.000000</td>\n",
       "      <td>2.589552e+06</td>\n",
       "      <td>183914.000000</td>\n",
       "      <td>887333.000000</td>\n",
       "      <td>2.182587e+06</td>\n",
       "      <td>187919.000000</td>\n",
       "      <td>174710.000000</td>\n",
       "      <td>425531.000000</td>\n",
       "    </tr>\n",
       "  </tbody>\n",
       "</table>\n",
       "</div>"
      ],
      "text/plain": [
       "             MAL_ID    Popularity       Members      Favorites       Watching  \\\n",
       "count  17562.000000  17562.000000  1.756200e+04   17562.000000   17562.000000   \n",
       "mean   21477.192347   8763.452340  3.465854e+04     457.746270    2231.487758   \n",
       "std    14900.093170   5059.327278  1.252821e+05    4063.473313   14046.688133   \n",
       "min        1.000000      0.000000  1.000000e+00       0.000000       0.000000   \n",
       "25%     5953.500000   4383.500000  3.360000e+02       0.000000      13.000000   \n",
       "50%    22820.000000   8762.500000  2.065000e+03       3.000000      73.000000   \n",
       "75%    35624.750000  13145.000000  1.322325e+04      31.000000     522.000000   \n",
       "max    48492.000000  17565.000000  2.589552e+06  183914.000000  887333.000000   \n",
       "\n",
       "          Completed        On-Hold        Dropped  Plan to Watch  \n",
       "count  1.756200e+04   17562.000000   17562.000000   17562.000000  \n",
       "mean   2.209557e+04     955.049653    1176.599533    8199.831227  \n",
       "std    9.100919e+04    4275.675096    4740.348653   23777.691963  \n",
       "min    0.000000e+00       0.000000       0.000000       1.000000  \n",
       "25%    1.110000e+02       6.000000      37.000000     112.000000  \n",
       "50%    8.175000e+02      45.000000      77.000000     752.500000  \n",
       "75%    6.478000e+03     291.750000     271.000000    4135.500000  \n",
       "max    2.182587e+06  187919.000000  174710.000000  425531.000000  "
      ]
     },
     "execution_count": 4,
     "metadata": {},
     "output_type": "execute_result"
    }
   ],
   "source": [
    "df.describe()"
   ]
  },
  {
   "cell_type": "code",
   "execution_count": 5,
   "id": "c629f2b7-a1ad-4473-adf7-dfb0dfb4bb2a",
   "metadata": {},
   "outputs": [
    {
     "data": {
      "text/plain": [
       "MAL_ID           17562\n",
       "Name             17558\n",
       "Score              533\n",
       "Genres            5034\n",
       "English name      6831\n",
       "Japanese name    16679\n",
       "Type                 7\n",
       "Episodes           201\n",
       "Aired            11947\n",
       "Premiered          231\n",
       "Producers         3783\n",
       "Licensors          231\n",
       "Studios           1090\n",
       "Source              16\n",
       "Duration           313\n",
       "Rating               7\n",
       "Ranked           10490\n",
       "Popularity       11755\n",
       "Members           9508\n",
       "Favorites         1543\n",
       "Watching          3580\n",
       "Completed         7822\n",
       "On-Hold           2915\n",
       "Dropped           3035\n",
       "Plan to Watch     7055\n",
       "Score-10          3379\n",
       "Score-9           3645\n",
       "Score-8           4515\n",
       "Score-7           4933\n",
       "Score-6           4236\n",
       "Score-5           3288\n",
       "Score-4           2235\n",
       "Score-3           1506\n",
       "Score-2           1110\n",
       "Score-1           1084\n",
       "dtype: int64"
      ]
     },
     "execution_count": 5,
     "metadata": {},
     "output_type": "execute_result"
    }
   ],
   "source": [
    "df.nunique(axis=0)"
   ]
  },
  {
   "cell_type": "code",
   "execution_count": 6,
   "id": "307f8986-5b6e-408f-a459-7a0ae95cd505",
   "metadata": {},
   "outputs": [
    {
     "name": "stdout",
     "output_type": "stream",
     "text": [
      "['TV' 'Movie' 'OVA' 'Special' 'ONA' 'Music' 'Other']\n"
     ]
    }
   ],
   "source": [
    "\n",
    "def clean_Type(row):\n",
    "    atype = ['Unknown']\n",
    "    if row.Type in atype:\n",
    "        return 'Other'\n",
    "    return row.Type\n",
    "def clean_df(playlist):\n",
    "    df_cleaned=df.copy()\n",
    "    df_cleaned['Type']=df_cleaned.apply(lambda row:clean_Type(row),axis=1)\n",
    "    return df_cleaned\n",
    "df_cleaned = clean_df(df)\n",
    "print(df_cleaned.Type.unique())"
   ]
  },
  {
   "cell_type": "markdown",
   "id": "4970517c-3fa2-4901-a1e7-5b2551a7f152",
   "metadata": {},
   "source": [
    "The above code takes the \"Unknown\" type and changes it to other. Although an animes type may not explicitly be what's listed, the shows type isn't just \"unknown\"."
   ]
  },
  {
   "cell_type": "code",
   "execution_count": 7,
   "id": "b7b23030-e1dd-41ff-8144-19bee5d35eb9",
   "metadata": {},
   "outputs": [
    {
     "data": {
      "text/html": [
       "<div>\n",
       "<style scoped>\n",
       "    .dataframe tbody tr th:only-of-type {\n",
       "        vertical-align: middle;\n",
       "    }\n",
       "\n",
       "    .dataframe tbody tr th {\n",
       "        vertical-align: top;\n",
       "    }\n",
       "\n",
       "    .dataframe thead th {\n",
       "        text-align: right;\n",
       "    }\n",
       "</style>\n",
       "<table border=\"1\" class=\"dataframe\">\n",
       "  <thead>\n",
       "    <tr style=\"text-align: right;\">\n",
       "      <th></th>\n",
       "      <th>MAL_ID</th>\n",
       "      <th>Popularity</th>\n",
       "      <th>Members</th>\n",
       "      <th>Favorites</th>\n",
       "      <th>Watching</th>\n",
       "      <th>Completed</th>\n",
       "      <th>On-Hold</th>\n",
       "      <th>Dropped</th>\n",
       "      <th>Plan to Watch</th>\n",
       "    </tr>\n",
       "  </thead>\n",
       "  <tbody>\n",
       "    <tr>\n",
       "      <th>count</th>\n",
       "      <td>17031.000000</td>\n",
       "      <td>17031.000000</td>\n",
       "      <td>17031.000000</td>\n",
       "      <td>17031.000000</td>\n",
       "      <td>17031.000000</td>\n",
       "      <td>17031.000000</td>\n",
       "      <td>17031.000000</td>\n",
       "      <td>17031.000000</td>\n",
       "      <td>17031.000000</td>\n",
       "    </tr>\n",
       "    <tr>\n",
       "      <th>mean</th>\n",
       "      <td>20877.399565</td>\n",
       "      <td>8701.477952</td>\n",
       "      <td>35590.264694</td>\n",
       "      <td>471.261875</td>\n",
       "      <td>2298.903999</td>\n",
       "      <td>22784.476778</td>\n",
       "      <td>984.289531</td>\n",
       "      <td>1212.523575</td>\n",
       "      <td>8310.070812</td>\n",
       "    </tr>\n",
       "    <tr>\n",
       "      <th>std</th>\n",
       "      <td>14697.590362</td>\n",
       "      <td>5063.493421</td>\n",
       "      <td>127092.774304</td>\n",
       "      <td>4125.576611</td>\n",
       "      <td>14258.605511</td>\n",
       "      <td>92332.177940</td>\n",
       "      <td>4338.544350</td>\n",
       "      <td>4809.234523</td>\n",
       "      <td>24059.837585</td>\n",
       "    </tr>\n",
       "    <tr>\n",
       "      <th>min</th>\n",
       "      <td>1.000000</td>\n",
       "      <td>1.000000</td>\n",
       "      <td>25.000000</td>\n",
       "      <td>0.000000</td>\n",
       "      <td>0.000000</td>\n",
       "      <td>1.000000</td>\n",
       "      <td>0.000000</td>\n",
       "      <td>0.000000</td>\n",
       "      <td>6.000000</td>\n",
       "    </tr>\n",
       "    <tr>\n",
       "      <th>25%</th>\n",
       "      <td>5654.500000</td>\n",
       "      <td>4297.500000</td>\n",
       "      <td>342.000000</td>\n",
       "      <td>0.000000</td>\n",
       "      <td>14.000000</td>\n",
       "      <td>130.000000</td>\n",
       "      <td>7.000000</td>\n",
       "      <td>38.000000</td>\n",
       "      <td>112.000000</td>\n",
       "    </tr>\n",
       "    <tr>\n",
       "      <th>50%</th>\n",
       "      <td>21751.000000</td>\n",
       "      <td>8686.000000</td>\n",
       "      <td>2114.000000</td>\n",
       "      <td>3.000000</td>\n",
       "      <td>80.000000</td>\n",
       "      <td>925.000000</td>\n",
       "      <td>50.000000</td>\n",
       "      <td>81.000000</td>\n",
       "      <td>752.000000</td>\n",
       "    </tr>\n",
       "    <tr>\n",
       "      <th>75%</th>\n",
       "      <td>35104.500000</td>\n",
       "      <td>13091.000000</td>\n",
       "      <td>13845.000000</td>\n",
       "      <td>33.000000</td>\n",
       "      <td>549.000000</td>\n",
       "      <td>7026.000000</td>\n",
       "      <td>308.000000</td>\n",
       "      <td>286.000000</td>\n",
       "      <td>4162.000000</td>\n",
       "    </tr>\n",
       "    <tr>\n",
       "      <th>max</th>\n",
       "      <td>48491.000000</td>\n",
       "      <td>17565.000000</td>\n",
       "      <td>2589552.000000</td>\n",
       "      <td>183914.000000</td>\n",
       "      <td>887333.000000</td>\n",
       "      <td>2182587.000000</td>\n",
       "      <td>187919.000000</td>\n",
       "      <td>174710.000000</td>\n",
       "      <td>425531.000000</td>\n",
       "    </tr>\n",
       "  </tbody>\n",
       "</table>\n",
       "</div>"
      ],
      "text/plain": [
       "             MAL_ID    Popularity         Members      Favorites  \\\n",
       "count  17031.000000  17031.000000    17031.000000   17031.000000   \n",
       "mean   20877.399565   8701.477952    35590.264694     471.261875   \n",
       "std    14697.590362   5063.493421   127092.774304    4125.576611   \n",
       "min        1.000000      1.000000       25.000000       0.000000   \n",
       "25%     5654.500000   4297.500000      342.000000       0.000000   \n",
       "50%    21751.000000   8686.000000     2114.000000       3.000000   \n",
       "75%    35104.500000  13091.000000    13845.000000      33.000000   \n",
       "max    48491.000000  17565.000000  2589552.000000  183914.000000   \n",
       "\n",
       "            Watching       Completed        On-Hold        Dropped  \\\n",
       "count   17031.000000    17031.000000   17031.000000   17031.000000   \n",
       "mean     2298.903999    22784.476778     984.289531    1212.523575   \n",
       "std     14258.605511    92332.177940    4338.544350    4809.234523   \n",
       "min         0.000000        1.000000       0.000000       0.000000   \n",
       "25%        14.000000      130.000000       7.000000      38.000000   \n",
       "50%        80.000000      925.000000      50.000000      81.000000   \n",
       "75%       549.000000     7026.000000     308.000000     286.000000   \n",
       "max    887333.000000  2182587.000000  187919.000000  174710.000000   \n",
       "\n",
       "       Plan to Watch  \n",
       "count   17031.000000  \n",
       "mean     8310.070812  \n",
       "std     24059.837585  \n",
       "min         6.000000  \n",
       "25%       112.000000  \n",
       "50%       752.000000  \n",
       "75%      4162.000000  \n",
       "max    425531.000000  "
      ]
     },
     "execution_count": 7,
     "metadata": {},
     "output_type": "execute_result"
    }
   ],
   "source": [
    "df_cleaned = df_cleaned[df_cleaned['Popularity']>0]\n",
    "df_cleaned = df_cleaned[df_cleaned['Completed']>0]\n",
    "df_cleaned.describe().apply(lambda s: s.apply(lambda x: format(x, 'f')))\n",
    " "
   ]
  },
  {
   "cell_type": "markdown",
   "id": "6d58e23d-41ba-4a80-a636-b220f1d3a825",
   "metadata": {},
   "source": [
    "##### It makes more sense for an anime that has a popularity rating to have been completed by at least 1 person, so the minimum has been set to 1. \n",
    "##### It should be noted that the more popular a show is, the lower the popularity number will be, to a minimum value of 1 being the most popular.  "
   ]
  },
  {
   "cell_type": "code",
   "execution_count": 8,
   "id": "e17653af-4508-47eb-a5ef-a2f351eee55f",
   "metadata": {},
   "outputs": [
    {
     "data": {
      "image/png": "[encoded data removed]",
      "text/plain": [
       "<Figure size 640x480 with 2 Axes>"
      ]
     },
     "metadata": {},
     "output_type": "display_data"
    }
   ],
   "source": [
    "corr = df_cleaned.corr()# plot the heatmap\n",
    "sns.heatmap(corr, xticklabels=corr.columns, yticklabels=corr.columns, annot=True, cmap=sns.diverging_palette(220, 20, as_cmap=True)).set(title='Correlation of Anime Variables')\n",
    "plt.savefig('../images/justineda1.PNG')"
   ]
  },
  {
   "cell_type": "markdown",
   "id": "ab6245d2-6798-4808-b3dd-49fe4d0b05aa",
   "metadata": {},
   "source": [
    "#### EDA Fig. 1\n",
    "##### Interesting to note here that there's a negative correlation between popularity and completed. \n",
    "##### However, it's likely negative due to the fact that a lower popularity number means that it is more positive."
   ]
  },
  {
   "cell_type": "code",
   "execution_count": 32,
   "id": "ad2931de-7cb6-4e9b-ac33-090d8a914aa6",
   "metadata": {},
   "outputs": [
    {
     "data": {
      "image/png": "[encoded data removed]",
      "text/plain": [
       "<Figure size 640x480 with 1 Axes>"
      ]
     },
     "metadata": {},
     "output_type": "display_data"
    }
   ],
   "source": [
    "sns.countplot(data=df_cleaned,x='Type').set(title='Number of Shows For Each Type of Anime')\n",
    "plt.savefig('../images/justineda2.PNG')"
   ]
  },
  {
   "cell_type": "markdown",
   "id": "8f6c31c7-8b6f-4d1c-bbf1-269b384c28b5",
   "metadata": {},
   "source": [
    "#### EDA Fig. 2\n",
    "##### This countplot above shows the amount of anime produced for each category."
   ]
  },
  {
   "cell_type": "code",
   "execution_count": 10,
   "id": "27ac839a-96e1-48e5-bbf0-12a832f8f98c",
   "metadata": {},
   "outputs": [],
   "source": [
    "#sns.pairplot(df_cleaned,corner=True)\n",
    "#plt.savefig('../images/justineda3.png')"
   ]
  },
  {
   "cell_type": "markdown",
   "id": "95ebd5ba-1113-43ad-8e82-2ac6234f9cfa",
   "metadata": {},
   "source": [
    "#### EDA Fig. 3\n",
    "##### Looking at the popularity to completed scatterplot, you can see that the more popular a show is, the more show completions there are. "
   ]
  },
  {
   "cell_type": "markdown",
   "id": "b169b69e-a73c-41fd-84ba-da619355b77a",
   "metadata": {},
   "source": [
    "## Task 2: Analysis Pipeline\n",
    "### Some parts of task 1 are involved in the analysis pipeline"
   ]
  },
  {
   "cell_type": "code",
   "execution_count": 11,
   "id": "6900acec-54c4-48a9-93a1-2c3790fdd1d1",
   "metadata": {},
   "outputs": [],
   "source": [
    "df = pd.read_csv('../data/raw/anime.csv')"
   ]
  },
  {
   "cell_type": "markdown",
   "id": "e356ca2e-4cac-406f-9dd9-cbf9e1fc9a7b",
   "metadata": {},
   "source": [
    "##### Above code loads data"
   ]
  },
  {
   "cell_type": "code",
   "execution_count": 12,
   "id": "1dc405b3-d2cf-439e-9f15-25e3cc59cc41",
   "metadata": {},
   "outputs": [
    {
     "data": {
      "text/plain": [
       "Index(['MAL_ID', 'Name', 'Score', 'Genres', 'English name', 'Japanese name',\n",
       "       'Type', 'Episodes', 'Aired', 'Premiered', 'Producers', 'Licensors',\n",
       "       'Studios', 'Source', 'Duration', 'Rating', 'Ranked', 'Popularity',\n",
       "       'Members', 'Favorites', 'Watching', 'Completed', 'On-Hold', 'Dropped',\n",
       "       'Plan to Watch', 'Score-10', 'Score-9', 'Score-8', 'Score-7', 'Score-6',\n",
       "       'Score-5', 'Score-4', 'Score-3', 'Score-2', 'Score-1'],\n",
       "      dtype='object')"
      ]
     },
     "execution_count": 12,
     "metadata": {},
     "output_type": "execute_result"
    }
   ],
   "source": [
    "NA_val = df_cleaned.isna().sum()\n",
    "def na_filter(na, threshold = .4):\n",
    "    col_pass = []\n",
    "    for i in na.keys():\n",
    "        if na[i]/df_cleaned.shape[0]<threshold:\n",
    "            col_pass.append(i)\n",
    "    return col_passdf_cleaned == df_cleaned[na_filter(NA_val)]\n",
    "df_cleaned.columns"
   ]
  },
  {
   "cell_type": "markdown",
   "id": "f94a5a45-a23d-4ceb-88d6-d730d95ba0db",
   "metadata": {},
   "source": [
    "##### Above code takes columns and gets rid of any that have more than 40% null values. "
   ]
  },
  {
   "cell_type": "code",
   "execution_count": 13,
   "id": "d063ce87-81fd-4bb9-b186-b1ea3d5a0d90",
   "metadata": {},
   "outputs": [],
   "source": [
    "df_cleaned.drop(df_cleaned.columns[[0,1,2,3,4,5,7,8,9,10,11,12,13,14,15,16,18,19,20,22,23,24,25,26,27,28,29,30,31,32,33,34]],axis=1,inplace=True)  "
   ]
  },
  {
   "cell_type": "markdown",
   "id": "d7d0eccd-7f54-479c-8145-e849b0cd90ad",
   "metadata": {},
   "source": [
    "##### Above code drops all columns not used - in this case, everything that isnt 'Popularity', 'Type' and 'Completed'."
   ]
  },
  {
   "cell_type": "code",
   "execution_count": 14,
   "id": "3113340c-0fc7-4c80-a16c-9879bb5cb861",
   "metadata": {},
   "outputs": [
    {
     "data": {
      "text/plain": [
       "Type          object\n",
       "Popularity     int64\n",
       "Completed      int64\n",
       "dtype: object"
      ]
     },
     "execution_count": 14,
     "metadata": {},
     "output_type": "execute_result"
    }
   ],
   "source": [
    "df_cleaned.dtypes"
   ]
  },
  {
   "cell_type": "markdown",
   "id": "64d42eda-73b4-41f6-955c-193165cba4eb",
   "metadata": {},
   "source": [
    "##### Data types look good and ready to be operated on where needed for \"Popularity\" and \"Completed\". \"Type\" needs to be a string. "
   ]
  },
  {
   "cell_type": "code",
   "execution_count": 15,
   "id": "fe8625a5-a8b6-49d0-b309-35650c01be7e",
   "metadata": {},
   "outputs": [
    {
     "data": {
      "text/plain": [
       "(17031, 3)"
      ]
     },
     "execution_count": 15,
     "metadata": {},
     "output_type": "execute_result"
    }
   ],
   "source": [
    "df_cleaned = df_cleaned.dropna(axis=0)\n",
    "df_cleaned.shape"
   ]
  },
  {
   "cell_type": "markdown",
   "id": "1e2b4d2d-6acf-4632-9eb0-6cc1ed8be7e6",
   "metadata": {},
   "source": [
    "##### Of the columns and rows remaining that I need, this will remove any null values. "
   ]
  },
  {
   "cell_type": "code",
   "execution_count": 16,
   "id": "acdbada4-aa64-43a2-b9b7-c21af02ee11d",
   "metadata": {},
   "outputs": [],
   "source": [
    "dfn = df_cleaned.rename(columns={'Completed':'Full Anime Completions'})"
   ]
  },
  {
   "cell_type": "markdown",
   "id": "889c177a-a75f-4e5e-8358-e91cf53fbe6e",
   "metadata": {},
   "source": [
    "##### Above code renames the completed column to 'Full Anime Completions' to clarify"
   ]
  },
  {
   "cell_type": "code",
   "execution_count": 17,
   "id": "f99a43b4-b124-4e30-b90a-bdada749de16",
   "metadata": {},
   "outputs": [
    {
     "data": {
      "text/html": [
       "<div>\n",
       "<style scoped>\n",
       "    .dataframe tbody tr th:only-of-type {\n",
       "        vertical-align: middle;\n",
       "    }\n",
       "\n",
       "    .dataframe tbody tr th {\n",
       "        vertical-align: top;\n",
       "    }\n",
       "\n",
       "    .dataframe thead th {\n",
       "        text-align: right;\n",
       "    }\n",
       "</style>\n",
       "<table border=\"1\" class=\"dataframe\">\n",
       "  <thead>\n",
       "    <tr style=\"text-align: right;\">\n",
       "      <th></th>\n",
       "      <th>Type</th>\n",
       "      <th>Popularity</th>\n",
       "      <th>Full Anime Completions</th>\n",
       "    </tr>\n",
       "  </thead>\n",
       "  <tbody>\n",
       "    <tr>\n",
       "      <th>0</th>\n",
       "      <td>TV</td>\n",
       "      <td>39</td>\n",
       "      <td>718161</td>\n",
       "    </tr>\n",
       "    <tr>\n",
       "      <th>1</th>\n",
       "      <td>Movie</td>\n",
       "      <td>518</td>\n",
       "      <td>208333</td>\n",
       "    </tr>\n",
       "    <tr>\n",
       "      <th>2</th>\n",
       "      <td>TV</td>\n",
       "      <td>201</td>\n",
       "      <td>343492</td>\n",
       "    </tr>\n",
       "    <tr>\n",
       "      <th>3</th>\n",
       "      <td>TV</td>\n",
       "      <td>1467</td>\n",
       "      <td>46165</td>\n",
       "    </tr>\n",
       "    <tr>\n",
       "      <th>4</th>\n",
       "      <td>TV</td>\n",
       "      <td>4369</td>\n",
       "      <td>7314</td>\n",
       "    </tr>\n",
       "    <tr>\n",
       "      <th>...</th>\n",
       "      <td>...</td>\n",
       "      <td>...</td>\n",
       "      <td>...</td>\n",
       "    </tr>\n",
       "    <tr>\n",
       "      <th>17543</th>\n",
       "      <td>TV</td>\n",
       "      <td>2597</td>\n",
       "      <td>5</td>\n",
       "    </tr>\n",
       "    <tr>\n",
       "      <th>17544</th>\n",
       "      <td>TV</td>\n",
       "      <td>5731</td>\n",
       "      <td>2</td>\n",
       "    </tr>\n",
       "    <tr>\n",
       "      <th>17549</th>\n",
       "      <td>OVA</td>\n",
       "      <td>4546</td>\n",
       "      <td>4</td>\n",
       "    </tr>\n",
       "    <tr>\n",
       "      <th>17552</th>\n",
       "      <td>Special</td>\n",
       "      <td>4830</td>\n",
       "      <td>7207</td>\n",
       "    </tr>\n",
       "    <tr>\n",
       "      <th>17560</th>\n",
       "      <td>TV</td>\n",
       "      <td>17565</td>\n",
       "      <td>2</td>\n",
       "    </tr>\n",
       "  </tbody>\n",
       "</table>\n",
       "<p>17031 rows × 3 columns</p>\n",
       "</div>"
      ],
      "text/plain": [
       "          Type  Popularity  Full Anime Completions\n",
       "0           TV          39                  718161\n",
       "1        Movie         518                  208333\n",
       "2           TV         201                  343492\n",
       "3           TV        1467                   46165\n",
       "4           TV        4369                    7314\n",
       "...        ...         ...                     ...\n",
       "17543       TV        2597                       5\n",
       "17544       TV        5731                       2\n",
       "17549      OVA        4546                       4\n",
       "17552  Special        4830                    7207\n",
       "17560       TV       17565                       2\n",
       "\n",
       "[17031 rows x 3 columns]"
      ]
     },
     "execution_count": 17,
     "metadata": {},
     "output_type": "execute_result"
    }
   ],
   "source": [
    "dfn"
   ]
  },
  {
   "cell_type": "markdown",
   "id": "6a46639c-28af-4898-8c0d-28ede4f8dea7",
   "metadata": {},
   "source": [
    "##### Above code shows Types, Popularity and # Completed for each anime collected. "
   ]
  },
  {
   "cell_type": "code",
   "execution_count": 18,
   "id": "f64ce1ae-ab1a-448e-b673-c5c01deaf4b4",
   "metadata": {},
   "outputs": [
    {
     "data": {
      "text/html": [
       "<div>\n",
       "<style scoped>\n",
       "    .dataframe tbody tr th:only-of-type {\n",
       "        vertical-align: middle;\n",
       "    }\n",
       "\n",
       "    .dataframe tbody tr th {\n",
       "        vertical-align: top;\n",
       "    }\n",
       "\n",
       "    .dataframe thead th {\n",
       "        text-align: right;\n",
       "    }\n",
       "</style>\n",
       "<table border=\"1\" class=\"dataframe\">\n",
       "  <thead>\n",
       "    <tr style=\"text-align: right;\">\n",
       "      <th></th>\n",
       "      <th>Type</th>\n",
       "      <th>Popularity</th>\n",
       "      <th>Full Anime Completions</th>\n",
       "    </tr>\n",
       "  </thead>\n",
       "  <tbody>\n",
       "    <tr>\n",
       "      <th>7449</th>\n",
       "      <td>TV</td>\n",
       "      <td>2</td>\n",
       "      <td>2182587</td>\n",
       "    </tr>\n",
       "    <tr>\n",
       "      <th>1393</th>\n",
       "      <td>TV</td>\n",
       "      <td>1</td>\n",
       "      <td>2146116</td>\n",
       "    </tr>\n",
       "    <tr>\n",
       "      <th>6614</th>\n",
       "      <td>TV</td>\n",
       "      <td>4</td>\n",
       "      <td>1907261</td>\n",
       "    </tr>\n",
       "    <tr>\n",
       "      <th>10451</th>\n",
       "      <td>TV</td>\n",
       "      <td>5</td>\n",
       "      <td>1841220</td>\n",
       "    </tr>\n",
       "    <tr>\n",
       "      <th>11185</th>\n",
       "      <td>TV</td>\n",
       "      <td>6</td>\n",
       "      <td>1655900</td>\n",
       "    </tr>\n",
       "    <tr>\n",
       "      <th>...</th>\n",
       "      <td>...</td>\n",
       "      <td>...</td>\n",
       "      <td>...</td>\n",
       "    </tr>\n",
       "    <tr>\n",
       "      <th>16321</th>\n",
       "      <td>TV</td>\n",
       "      <td>10776</td>\n",
       "      <td>1</td>\n",
       "    </tr>\n",
       "    <tr>\n",
       "      <th>13230</th>\n",
       "      <td>ONA</td>\n",
       "      <td>4671</td>\n",
       "      <td>1</td>\n",
       "    </tr>\n",
       "    <tr>\n",
       "      <th>13251</th>\n",
       "      <td>Movie</td>\n",
       "      <td>4133</td>\n",
       "      <td>1</td>\n",
       "    </tr>\n",
       "    <tr>\n",
       "      <th>17391</th>\n",
       "      <td>TV</td>\n",
       "      <td>2688</td>\n",
       "      <td>1</td>\n",
       "    </tr>\n",
       "    <tr>\n",
       "      <th>13762</th>\n",
       "      <td>ONA</td>\n",
       "      <td>10998</td>\n",
       "      <td>1</td>\n",
       "    </tr>\n",
       "  </tbody>\n",
       "</table>\n",
       "<p>17031 rows × 3 columns</p>\n",
       "</div>"
      ],
      "text/plain": [
       "        Type  Popularity  Full Anime Completions\n",
       "7449      TV           2                 2182587\n",
       "1393      TV           1                 2146116\n",
       "6614      TV           4                 1907261\n",
       "10451     TV           5                 1841220\n",
       "11185     TV           6                 1655900\n",
       "...      ...         ...                     ...\n",
       "16321     TV       10776                       1\n",
       "13230    ONA        4671                       1\n",
       "13251  Movie        4133                       1\n",
       "17391     TV        2688                       1\n",
       "13762    ONA       10998                       1\n",
       "\n",
       "[17031 rows x 3 columns]"
      ]
     },
     "execution_count": 18,
     "metadata": {},
     "output_type": "execute_result"
    }
   ],
   "source": [
    "dfn.sort_values(by='Full Anime Completions',ascending=False)\n"
   ]
  },
  {
   "cell_type": "markdown",
   "id": "c4ca4d0e-fd0f-461e-b950-f08755fa1a60",
   "metadata": {},
   "source": [
    "##### Above code shows the most completed animes at the top"
   ]
  },
  {
   "cell_type": "markdown",
   "id": "bfee480a-9d38-410b-9d18-2ad8484798b4",
   "metadata": {},
   "source": [
    "## Task 3: Method Chaining\n",
    "### Making the code 'cleaner'"
   ]
  },
  {
   "cell_type": "code",
   "execution_count": 19,
   "id": "2028fb65-7dde-40ef-a8c3-452100d719d5",
   "metadata": {},
   "outputs": [],
   "source": [
    "def load_and_process(path_to_csv_file):\n",
    "    df_loader = (\n",
    "        pd.read_csv('../data/raw/anime.csv')\n",
    "        #loads data\n",
    "    )\n",
    "    def clean_Type(row):\n",
    "        atype = ['Unknown']\n",
    "        if row.Type in atype:\n",
    "            return 'Other'\n",
    "        return row.Type\n",
    "    def clean_df(playlist):\n",
    "        df_cleaned=df_loader.copy()\n",
    "        df_cleaned['Type']=df_cleaned.apply(lambda row:clean_Type(row),axis=1)\n",
    "        return df_cleaned\n",
    "    #Changes any unknown value to 'other' since 'Type' value is never unknown, it's just a value that isn't one of the explicitly listed values.\n",
    "    df_cleaned = clean_df(df_loader)\n",
    "    df_cleaned = df_cleaned[df_cleaned['Popularity']>0]\n",
    "    df_cleaned = df_cleaned[df_cleaned['Completed']>0]\n",
    "    #Makes it so that any population and completed value has to be greater than 0, as I am not interested in anime that have no completions\n",
    "    df = (\n",
    "        df_cleaned\n",
    "        .drop(df_cleaned.columns[[0,1,2,3,4,5,7,8,9,10,11,12,13,14,15,16,18,19,20,22,23,24,25,26,27,28,29,30,31,32,33,34]],axis=1,inplace=False)\n",
    "        .dropna(axis=0)\n",
    "        .rename(columns={'Completed':'Full Anime Completions'})\n",
    "        #This will drop all columns I don't need (everything excluding Type, Completed and Popularity), remove null values and rename the 'Completed' column. \n",
    "    )\n",
    "    return df\n"
   ]
  },
  {
   "cell_type": "code",
   "execution_count": 20,
   "id": "e21d9484-f176-4bbb-842b-7b5278171873",
   "metadata": {},
   "outputs": [
    {
     "data": {
      "text/html": [
       "<div>\n",
       "<style scoped>\n",
       "    .dataframe tbody tr th:only-of-type {\n",
       "        vertical-align: middle;\n",
       "    }\n",
       "\n",
       "    .dataframe tbody tr th {\n",
       "        vertical-align: top;\n",
       "    }\n",
       "\n",
       "    .dataframe thead th {\n",
       "        text-align: right;\n",
       "    }\n",
       "</style>\n",
       "<table border=\"1\" class=\"dataframe\">\n",
       "  <thead>\n",
       "    <tr style=\"text-align: right;\">\n",
       "      <th></th>\n",
       "      <th>Type</th>\n",
       "      <th>Popularity</th>\n",
       "      <th>Full Anime Completions</th>\n",
       "    </tr>\n",
       "  </thead>\n",
       "  <tbody>\n",
       "    <tr>\n",
       "      <th>0</th>\n",
       "      <td>TV</td>\n",
       "      <td>39</td>\n",
       "      <td>718161</td>\n",
       "    </tr>\n",
       "    <tr>\n",
       "      <th>1</th>\n",
       "      <td>Movie</td>\n",
       "      <td>518</td>\n",
       "      <td>208333</td>\n",
       "    </tr>\n",
       "    <tr>\n",
       "      <th>2</th>\n",
       "      <td>TV</td>\n",
       "      <td>201</td>\n",
       "      <td>343492</td>\n",
       "    </tr>\n",
       "    <tr>\n",
       "      <th>3</th>\n",
       "      <td>TV</td>\n",
       "      <td>1467</td>\n",
       "      <td>46165</td>\n",
       "    </tr>\n",
       "    <tr>\n",
       "      <th>4</th>\n",
       "      <td>TV</td>\n",
       "      <td>4369</td>\n",
       "      <td>7314</td>\n",
       "    </tr>\n",
       "    <tr>\n",
       "      <th>...</th>\n",
       "      <td>...</td>\n",
       "      <td>...</td>\n",
       "      <td>...</td>\n",
       "    </tr>\n",
       "    <tr>\n",
       "      <th>17543</th>\n",
       "      <td>TV</td>\n",
       "      <td>2597</td>\n",
       "      <td>5</td>\n",
       "    </tr>\n",
       "    <tr>\n",
       "      <th>17544</th>\n",
       "      <td>TV</td>\n",
       "      <td>5731</td>\n",
       "      <td>2</td>\n",
       "    </tr>\n",
       "    <tr>\n",
       "      <th>17549</th>\n",
       "      <td>OVA</td>\n",
       "      <td>4546</td>\n",
       "      <td>4</td>\n",
       "    </tr>\n",
       "    <tr>\n",
       "      <th>17552</th>\n",
       "      <td>Special</td>\n",
       "      <td>4830</td>\n",
       "      <td>7207</td>\n",
       "    </tr>\n",
       "    <tr>\n",
       "      <th>17560</th>\n",
       "      <td>TV</td>\n",
       "      <td>17565</td>\n",
       "      <td>2</td>\n",
       "    </tr>\n",
       "  </tbody>\n",
       "</table>\n",
       "<p>17031 rows × 3 columns</p>\n",
       "</div>"
      ],
      "text/plain": [
       "          Type  Popularity  Full Anime Completions\n",
       "0           TV          39                  718161\n",
       "1        Movie         518                  208333\n",
       "2           TV         201                  343492\n",
       "3           TV        1467                   46165\n",
       "4           TV        4369                    7314\n",
       "...        ...         ...                     ...\n",
       "17543       TV        2597                       5\n",
       "17544       TV        5731                       2\n",
       "17549      OVA        4546                       4\n",
       "17552  Special        4830                    7207\n",
       "17560       TV       17565                       2\n",
       "\n",
       "[17031 rows x 3 columns]"
      ]
     },
     "execution_count": 20,
     "metadata": {},
     "output_type": "execute_result"
    }
   ],
   "source": [
    "df2 = load_and_process('../data/raw/anime.csv')\n",
    "df2"
   ]
  },
  {
   "cell_type": "markdown",
   "id": "8f314cb3-955b-4116-89f7-c48bd59d9778",
   "metadata": {},
   "source": [
    "## Task 4: Conducting a data analysis"
   ]
  },
  {
   "cell_type": "markdown",
   "id": "dee063ef-5b91-4a06-9c94-57883b34ba9a",
   "metadata": {},
   "source": [
    "#### The 3 lines below here can go in task 2: analysis pipeline under 'Data Wrangling', but for the sake of showing all my steps for each task, it's here"
   ]
  },
  {
   "cell_type": "code",
   "execution_count": 21,
   "id": "8e7de5bb-938a-4a96-85aa-fe2da19b0f74",
   "metadata": {},
   "outputs": [],
   "source": [
    "avg = df2.groupby('Type',as_index = False)['Popularity'].mean().round(2)"
   ]
  },
  {
   "cell_type": "markdown",
   "id": "43f45a8f-ef10-433a-a4fa-d4d412c0d91a",
   "metadata": {},
   "source": [
    "##### Above code takes an average of the popularities for each type of show"
   ]
  },
  {
   "cell_type": "code",
   "execution_count": 22,
   "id": "7b6d637c-91b1-4f80-bcdd-9f5911174f70",
   "metadata": {},
   "outputs": [],
   "source": [
    "avg2 = df2.groupby('Type',as_index=False)['Full Anime Completions'].mean().round(2)\n"
   ]
  },
  {
   "cell_type": "markdown",
   "id": "1efe7f40-d222-421e-b03b-8625fa0db208",
   "metadata": {},
   "source": [
    "##### Above code takes an average of full anime completions for each type of show"
   ]
  },
  {
   "cell_type": "code",
   "execution_count": 23,
   "id": "982fd51d-e373-402c-8772-c4d2dc943544",
   "metadata": {},
   "outputs": [],
   "source": [
    "df3 = pd.merge(avg,avg2,'outer')"
   ]
  },
  {
   "cell_type": "markdown",
   "id": "fda5a60d-80c5-48ab-a84e-e842ff500498",
   "metadata": {},
   "source": [
    "##### Merges both averaged dataframes onto each other"
   ]
  },
  {
   "cell_type": "code",
   "execution_count": 24,
   "id": "6657ecc3-6e41-4cf3-9654-5e4dca4525a4",
   "metadata": {},
   "outputs": [
    {
     "data": {
      "image/png": "[encoded data removed]",
      "text/plain": [
       "<Figure size 640x480 with 1 Axes>"
      ]
     },
     "metadata": {},
     "output_type": "display_data"
    }
   ],
   "source": [
    "sns.barplot(data=avg,x='Type',y='Popularity').set(title='Average Popularity for each type of show')\n",
    "plt.savefig('../images/justinf1.PNG')"
   ]
  },
  {
   "cell_type": "markdown",
   "id": "8b580ef0-a17c-4972-a777-01f95c9de091",
   "metadata": {},
   "source": [
    "### Figure 1\n",
    "This graph above shows a barplot of the average popularity for each type of anime. Here, we can see that on average, TV is the most popular type of anime, as the lower the popularity score is, the better the rating. "
   ]
  },
  {
   "cell_type": "code",
   "execution_count": 25,
   "id": "82a82fca-dd45-478c-b2f1-9332eedefe14",
   "metadata": {},
   "outputs": [
    {
     "data": {
      "image/png": "[encoded data removed]",
      "text/plain": [
       "<Figure size 640x480 with 1 Axes>"
      ]
     },
     "metadata": {},
     "output_type": "display_data"
    }
   ],
   "source": [
    "sns.scatterplot(data=df3,x='Full Anime Completions',y='Popularity',hue='Type').set(title='Average popularity and full anime completions for each type')\n",
    "plt.savefig('../images/justinf2.PNG')"
   ]
  },
  {
   "cell_type": "markdown",
   "id": "c2581031-7556-4118-b4a4-954019ce3390",
   "metadata": {},
   "source": [
    "### Figure 2\n",
    "This scatterplot above shows the relationship between average popularity and average full anime completions for each type of anime. We can see in this plot that TV has the most full completions and highest popularity score. If a line of best fit were to be drawn here, we could see that in general, as popularity decreases (higher rating), we see more full anime completions. This indicates that there is a positive correlation between popularity and full anime completions."
   ]
  },
  {
   "cell_type": "code",
   "execution_count": 26,
   "id": "1873bc8a-41c2-4aa3-904c-1eb832f6c86b",
   "metadata": {},
   "outputs": [
    {
     "data": {
      "image/png": "[encoded data removed]",
      "text/plain": [
       "<Figure size 640x480 with 2 Axes>"
      ]
     },
     "metadata": {},
     "output_type": "display_data"
    }
   ],
   "source": [
    "corr = df2.corr()\n",
    "sns.heatmap(corr, xticklabels=corr.columns, yticklabels=corr.columns, annot=True, cmap=sns.diverging_palette(220, 20, as_cmap=True)).set(title='Correlation between Full Anime Completions and Popularity')\n",
    "plt.savefig('../images/justinf3.PNG')"
   ]
  },
  {
   "cell_type": "markdown",
   "id": "d6a5f8bd-5952-42cd-b65b-74289c8ca37c",
   "metadata": {},
   "source": [
    "### Figure 3\n",
    "This heatmap above shows the actual correlation between full anime completions and popularity. We can see that popularity has a correlation of -0.38 with full completions, indicating a positive correlation (The lower popularity rating, the better) between popularity and full anime completions."
   ]
  },
  {
   "cell_type": "markdown",
   "id": "355bf8a6-ab38-4628-aaab-2d144c101950",
   "metadata": {},
   "source": [
    "## Is there a correlation between an animes popularity and its number of full completions?:\n",
    "In figure 2, we can see that there is a slight positive correlation (remember, lower popularity is better), but not much of one between popularity and full anime completions. Figure 3 shows us that there is a very slight correlation (n=-0.38). It's important to note that although this correlation represents a negative number, it's actually a positive correlation, due to the fact that a lower popularity number indicates a higher popularity. "
   ]
  },
  {
   "cell_type": "markdown",
   "id": "cdf2eda0-c4e5-4b40-9228-99d884cd800a",
   "metadata": {},
   "source": [
    "## What is the most popular types of anime based on their popularity rating?\n",
    "We can see that on average, TV type animes are the most popular (lower popularity number = more popularity), then other, special, and OVA. One important thing to note here is that the data range for 'Other' only has an average of 1.67 completions, which may cause a skew in the data since there are less completions to give a popularity rating, backed up by figure 4 where you see hardly any representation for the 'Other' category. TV has the highest representation by far, which could be an indicator that because TV shows are popular, more are being made in comparison to other types of anime. "
   ]
  },
  {
   "cell_type": "code",
   "execution_count": 28,
   "id": "a36ca992-5931-4954-8cc8-450644e47d32",
   "metadata": {},
   "outputs": [],
   "source": [
    "df2.to_csv('processed1.csv')"
   ]
  }
 ],
 "metadata": {
  "kernelspec": {
   "display_name": "Python 3 (ipykernel)",
   "language": "python",
   "name": "python3"
  },
  "language_info": {
   "codemirror_mode": {
    "name": "ipython",
    "version": 3
   },
   "file_extension": ".py",
   "mimetype": "text/x-python",
   "name": "python",
   "nbconvert_exporter": "python",
   "pygments_lexer": "ipython3",
   "version": "3.9.12"
  }
 },
 "nbformat": 4,
 "nbformat_minor": 5
}
